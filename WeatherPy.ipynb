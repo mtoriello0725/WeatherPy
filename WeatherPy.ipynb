{
 "cells": [
  {
   "cell_type": "markdown",
   "metadata": {},
   "source": [
    "# WeatherPy by Mike Toriello"
   ]
  },
  {
   "cell_type": "code",
   "execution_count": 59,
   "metadata": {},
   "outputs": [],
   "source": [
    "import numpy as np\n",
    "import pandas as pd\n",
    "import matplotlib.pyplot as plt\n",
    "%matplotlib inline\n",
    "\n",
    "import openweathermapy as owm\n",
    "import requests\n",
    "import json\n",
    "import time"
   ]
  },
  {
   "cell_type": "code",
   "execution_count": 60,
   "metadata": {},
   "outputs": [],
   "source": [
    "from api_keys import *"
   ]
  },
  {
   "cell_type": "code",
   "execution_count": 61,
   "metadata": {},
   "outputs": [],
   "source": [
    "from citipy import citipy"
   ]
  },
  {
   "cell_type": "markdown",
   "metadata": {},
   "source": [
    "### Test citipy"
   ]
  },
  {
   "cell_type": "code",
   "execution_count": 62,
   "metadata": {},
   "outputs": [
    {
     "data": {
      "text/plain": [
       "<citipy.citipy.City at 0x1ea0693f8d0>"
      ]
     },
     "execution_count": 62,
     "metadata": {},
     "output_type": "execute_result"
    }
   ],
   "source": [
    "# Latitude ranges from -90 : 90\n",
    "# Longitude ranges from -180 : 180\n",
    "city = citipy.nearest_city(22.99, 120.21)\n",
    "city"
   ]
  },
  {
   "cell_type": "code",
   "execution_count": 63,
   "metadata": {},
   "outputs": [
    {
     "data": {
      "text/plain": [
       "'tainan'"
      ]
     },
     "execution_count": 63,
     "metadata": {},
     "output_type": "execute_result"
    }
   ],
   "source": [
    "city.city_name"
   ]
  },
  {
   "cell_type": "markdown",
   "metadata": {},
   "source": [
    "## Create a list of 500 unique cities randomized by coordinates."
   ]
  },
  {
   "cell_type": "code",
   "execution_count": 42,
   "metadata": {},
   "outputs": [
    {
     "data": {
      "text/plain": [
       "array([-166.75554007,  -77.4045397 ,  -12.34411852,   28.37451254,\n",
       "        128.64615217,  -68.201144  , -120.68857419,   26.74864931,\n",
       "         43.80099631,  -60.63676942,  -34.68413178,  175.82814124,\n",
       "         52.43962095,  103.57698207,   48.56430941,  156.54949548,\n",
       "         21.52044451, -113.24568478,  -67.60597637,  -21.39618616])"
      ]
     },
     "execution_count": 42,
     "metadata": {},
     "output_type": "execute_result"
    }
   ],
   "source": [
    "np.random.uniform(-180, 180, size = 20)"
   ]
  },
  {
   "cell_type": "code",
   "execution_count": 54,
   "metadata": {},
   "outputs": [
    {
     "data": {
      "text/plain": [
       "1500"
      ]
     },
     "execution_count": 54,
     "metadata": {},
     "output_type": "execute_result"
    }
   ],
   "source": [
    "city_list = []\n",
    "while len(city_list) < 1500:\n",
    "    city = citipy.nearest_city(np.random.uniform(-90,90),np.random.uniform(-180,180))\n",
    "    if city.city_name not in city_list:\n",
    "        city_list.append(city.city_name)\n",
    "len(city_list)"
   ]
  },
  {
   "cell_type": "code",
   "execution_count": 55,
   "metadata": {},
   "outputs": [],
   "source": [
    "# Create Settings for openweathermapy\n",
    "# units=imperial -> fahrenheit\n",
    "settings = {\"units\": \"imperial\", \"appid\": api_key}"
   ]
  },
  {
   "cell_type": "code",
   "execution_count": 65,
   "metadata": {},
   "outputs": [
    {
     "name": "stdout",
     "output_type": "stream",
     "text": [
      "exception worked 1500\n"
     ]
    }
   ],
   "source": [
    "# HTTPError test:\n",
    "try:\n",
    "    weather_test = owm.get_current('not_a_real_city', **settings)\n",
    "except:\n",
    "    print(f'exception worked')"
   ]
  },
  {
   "cell_type": "code",
   "execution_count": 66,
   "metadata": {
    "scrolled": true
   },
   "outputs": [
    {
     "name": "stdout",
     "output_type": "stream",
     "text": [
      "City not found: 1 total skips\n",
      "City not found: 2 total skips\n",
      "City not found: 3 total skips\n",
      "City not found: 4 total skips\n",
      "City not found: 5 total skips\n",
      "City not found: 6 total skips\n",
      "City not found: 7 total skips\n",
      "City not found: 8 total skips\n",
      "City not found: 9 total skips\n",
      "City not found: 10 total skips\n",
      "City not found: 11 total skips\n",
      "City not found: 12 total skips\n",
      "City not found: 13 total skips\n",
      "City not found: 14 total skips\n",
      "City not found: 15 total skips\n",
      "City not found: 16 total skips\n",
      "City not found: 17 total skips\n",
      "City not found: 18 total skips\n",
      "City not found: 19 total skips\n",
      "City not found: 20 total skips\n",
      "City not found: 21 total skips\n",
      "City not found: 22 total skips\n",
      "City not found: 23 total skips\n",
      "City not found: 24 total skips\n",
      "City not found: 25 total skips\n",
      "City not found: 26 total skips\n",
      "City not found: 27 total skips\n",
      "City not found: 28 total skips\n",
      "City not found: 29 total skips\n",
      "City not found: 30 total skips\n",
      "City not found: 31 total skips\n",
      "City not found: 32 total skips\n",
      "City not found: 33 total skips\n",
      "City not found: 34 total skips\n",
      "City not found: 35 total skips\n",
      "City not found: 36 total skips\n",
      "City not found: 37 total skips\n",
      "City not found: 38 total skips\n",
      "City not found: 39 total skips\n",
      "City not found: 40 total skips\n",
      "City not found: 41 total skips\n",
      "City not found: 42 total skips\n",
      "City not found: 43 total skips\n",
      "City not found: 44 total skips\n",
      "City not found: 45 total skips\n",
      "City not found: 46 total skips\n",
      "City not found: 47 total skips\n",
      "City not found: 48 total skips\n",
      "City not found: 49 total skips\n",
      "City not found: 50 total skips\n",
      "City not found: 51 total skips\n",
      "City not found: 52 total skips\n",
      "City not found: 53 total skips\n",
      "City not found: 54 total skips\n",
      "City not found: 55 total skips\n",
      "City not found: 56 total skips\n",
      "City not found: 57 total skips\n",
      "City not found: 58 total skips\n",
      "City not found: 59 total skips\n",
      "City not found: 60 total skips\n",
      "City not found: 61 total skips\n",
      "City not found: 62 total skips\n",
      "City not found: 63 total skips\n",
      "City not found: 64 total skips\n",
      "City not found: 65 total skips\n",
      "City not found: 66 total skips\n",
      "City not found: 67 total skips\n",
      "City not found: 68 total skips\n",
      "City not found: 69 total skips\n",
      "City not found: 70 total skips\n",
      "City not found: 71 total skips\n",
      "City not found: 72 total skips\n",
      "City not found: 73 total skips\n",
      "City not found: 74 total skips\n",
      "City not found: 75 total skips\n",
      "City not found: 76 total skips\n",
      "City not found: 77 total skips\n",
      "City not found: 78 total skips\n",
      "City not found: 79 total skips\n",
      "City not found: 80 total skips\n",
      "City not found: 81 total skips\n",
      "City not found: 82 total skips\n",
      "City not found: 83 total skips\n",
      "City not found: 84 total skips\n",
      "City not found: 85 total skips\n",
      "City not found: 86 total skips\n",
      "City not found: 87 total skips\n",
      "City not found: 88 total skips\n",
      "City not found: 89 total skips\n",
      "City not found: 90 total skips\n",
      "City not found: 91 total skips\n",
      "City not found: 92 total skips\n",
      "City not found: 93 total skips\n",
      "City not found: 94 total skips\n",
      "City not found: 95 total skips\n",
      "City not found: 96 total skips\n",
      "City not found: 97 total skips\n",
      "City not found: 98 total skips\n",
      "City not found: 99 total skips\n",
      "City not found: 100 total skips\n",
      "City not found: 101 total skips\n",
      "City not found: 102 total skips\n",
      "City not found: 103 total skips\n",
      "City not found: 104 total skips\n",
      "City not found: 105 total skips\n",
      "City not found: 106 total skips\n",
      "City not found: 107 total skips\n",
      "City not found: 108 total skips\n",
      "City not found: 109 total skips\n",
      "City not found: 110 total skips\n",
      "City not found: 111 total skips\n",
      "City not found: 112 total skips\n",
      "City not found: 113 total skips\n",
      "City not found: 114 total skips\n",
      "City not found: 115 total skips\n",
      "City not found: 116 total skips\n",
      "City not found: 117 total skips\n",
      "City not found: 118 total skips\n",
      "City not found: 119 total skips\n",
      "City not found: 120 total skips\n",
      "City not found: 121 total skips\n",
      "City not found: 122 total skips\n",
      "City not found: 123 total skips\n",
      "City not found: 124 total skips\n",
      "City not found: 125 total skips\n",
      "City not found: 126 total skips\n",
      "City not found: 127 total skips\n",
      "City not found: 128 total skips\n",
      "City not found: 129 total skips\n",
      "City not found: 130 total skips\n",
      "City not found: 131 total skips\n",
      "City not found: 132 total skips\n",
      "City not found: 133 total skips\n",
      "City not found: 134 total skips\n",
      "City not found: 135 total skips\n",
      "City not found: 136 total skips\n",
      "City not found: 137 total skips\n",
      "City not found: 138 total skips\n",
      "City not found: 139 total skips\n",
      "City not found: 140 total skips\n",
      "City not found: 141 total skips\n",
      "City not found: 142 total skips\n",
      "City not found: 143 total skips\n",
      "City not found: 144 total skips\n",
      "City not found: 145 total skips\n"
     ]
    }
   ],
   "source": [
    "# Pull data for random cities: \n",
    "weather_data = []\n",
    "skip_count = 0\n",
    "for city in city_list:\n",
    "    try:\n",
    "        weather_data.append(owm.get_current(city, **settings))\n",
    "    except:\n",
    "        skip_count += 1\n",
    "        print(f'City not found: {skip_count} total skips')\n",
    "        continue"
   ]
  },
  {
   "cell_type": "code",
   "execution_count": 67,
   "metadata": {},
   "outputs": [
    {
     "data": {
      "text/plain": [
       "1355"
      ]
     },
     "execution_count": 67,
     "metadata": {},
     "output_type": "execute_result"
    }
   ],
   "source": [
    "len(weather_data)"
   ]
  },
  {
   "cell_type": "code",
   "execution_count": 68,
   "metadata": {},
   "outputs": [
    {
     "data": {
      "text/plain": [
       "{'coord': {'lon': -70.88, 'lat': 45.58},\n",
       " 'weather': [{'id': 802,\n",
       "   'main': 'Clouds',\n",
       "   'description': 'scattered clouds',\n",
       "   'icon': '03d'}],\n",
       " 'base': 'stations',\n",
       " 'main': {'temp': 78.89,\n",
       "  'pressure': 1017,\n",
       "  'humidity': 61,\n",
       "  'temp_min': 77,\n",
       "  'temp_max': 80.6},\n",
       " 'visibility': 16093,\n",
       " 'wind': {'speed': 4.7, 'deg': 270},\n",
       " 'clouds': {'all': 40},\n",
       " 'dt': 1537208100,\n",
       " 'sys': {'type': 1,\n",
       "  'id': 1374,\n",
       "  'message': 0.0033,\n",
       "  'country': 'CA',\n",
       "  'sunrise': 1537179918,\n",
       "  'sunset': 1537224557},\n",
       " 'id': 6032673,\n",
       " 'name': 'Lac-Megantic',\n",
       " 'cod': 200}"
      ]
     },
     "execution_count": 68,
     "metadata": {},
     "output_type": "execute_result"
    }
   ],
   "source": [
    "weather_data[0]"
   ]
  },
  {
   "cell_type": "code",
   "execution_count": 72,
   "metadata": {},
   "outputs": [],
   "source": [
    "summary = ['name', 'main.temp','main.humidity','clouds.all', 'wind.speed', 'coord.lat', 'coord.lon']"
   ]
  },
  {
   "cell_type": "code",
   "execution_count": 78,
   "metadata": {},
   "outputs": [],
   "source": [
    "data = [response(*summary) for response in weather_data]"
   ]
  },
  {
   "cell_type": "code",
   "execution_count": 79,
   "metadata": {},
   "outputs": [
    {
     "data": {
      "text/html": [
       "<div>\n",
       "<style scoped>\n",
       "    .dataframe tbody tr th:only-of-type {\n",
       "        vertical-align: middle;\n",
       "    }\n",
       "\n",
       "    .dataframe tbody tr th {\n",
       "        vertical-align: top;\n",
       "    }\n",
       "\n",
       "    .dataframe thead th {\n",
       "        text-align: right;\n",
       "    }\n",
       "</style>\n",
       "<table border=\"1\" class=\"dataframe\">\n",
       "  <thead>\n",
       "    <tr style=\"text-align: right;\">\n",
       "      <th></th>\n",
       "      <th>0</th>\n",
       "      <th>1</th>\n",
       "      <th>2</th>\n",
       "      <th>3</th>\n",
       "      <th>4</th>\n",
       "      <th>5</th>\n",
       "      <th>6</th>\n",
       "    </tr>\n",
       "  </thead>\n",
       "  <tbody>\n",
       "    <tr>\n",
       "      <th>0</th>\n",
       "      <td>Lac-Megantic</td>\n",
       "      <td>78.89</td>\n",
       "      <td>61</td>\n",
       "      <td>40</td>\n",
       "      <td>4.70</td>\n",
       "      <td>45.58</td>\n",
       "      <td>-70.88</td>\n",
       "    </tr>\n",
       "    <tr>\n",
       "      <th>1</th>\n",
       "      <td>Pedernales</td>\n",
       "      <td>78.80</td>\n",
       "      <td>85</td>\n",
       "      <td>76</td>\n",
       "      <td>8.10</td>\n",
       "      <td>0.07</td>\n",
       "      <td>-80.05</td>\n",
       "    </tr>\n",
       "    <tr>\n",
       "      <th>2</th>\n",
       "      <td>Ushuaia</td>\n",
       "      <td>35.60</td>\n",
       "      <td>80</td>\n",
       "      <td>75</td>\n",
       "      <td>14.99</td>\n",
       "      <td>-54.81</td>\n",
       "      <td>-68.31</td>\n",
       "    </tr>\n",
       "    <tr>\n",
       "      <th>3</th>\n",
       "      <td>Torbay</td>\n",
       "      <td>59.58</td>\n",
       "      <td>76</td>\n",
       "      <td>75</td>\n",
       "      <td>10.29</td>\n",
       "      <td>47.66</td>\n",
       "      <td>-52.73</td>\n",
       "    </tr>\n",
       "    <tr>\n",
       "      <th>4</th>\n",
       "      <td>Hithadhoo</td>\n",
       "      <td>83.93</td>\n",
       "      <td>100</td>\n",
       "      <td>80</td>\n",
       "      <td>10.11</td>\n",
       "      <td>-0.60</td>\n",
       "      <td>73.08</td>\n",
       "    </tr>\n",
       "  </tbody>\n",
       "</table>\n",
       "</div>"
      ],
      "text/plain": [
       "              0      1    2   3      4      5      6\n",
       "0  Lac-Megantic  78.89   61  40   4.70  45.58 -70.88\n",
       "1    Pedernales  78.80   85  76   8.10   0.07 -80.05\n",
       "2       Ushuaia  35.60   80  75  14.99 -54.81 -68.31\n",
       "3        Torbay  59.58   76  75  10.29  47.66 -52.73\n",
       "4     Hithadhoo  83.93  100  80  10.11  -0.60  73.08"
      ]
     },
     "execution_count": 79,
     "metadata": {},
     "output_type": "execute_result"
    }
   ],
   "source": [
    "weather_dataframe = pd.DataFrame(data)\n",
    "weather_dataframe.head()"
   ]
  },
  {
   "cell_type": "code",
   "execution_count": 87,
   "metadata": {},
   "outputs": [],
   "source": [
    "# Rearrange data for organization:\n",
    "weather_dataframe.rename(columns = {0:'City', 1:'Temp (F)', 2:'Humidity (%)',\n",
    "                                    3:'Clouds (Total)', 4:'Wind Speed (mph)', 5:'Latitude', 6:'Longitude'},\n",
    "                        inplace=True)\n",
    "weather_dataframe.set_index('City', inplace=True)"
   ]
  },
  {
   "cell_type": "code",
   "execution_count": 88,
   "metadata": {},
   "outputs": [],
   "source": [
    "weather_dataframe.to_csv('random_weather_data.csv')"
   ]
  },
  {
   "cell_type": "code",
   "execution_count": null,
   "metadata": {},
   "outputs": [],
   "source": []
  }
 ],
 "metadata": {
  "kernelspec": {
   "display_name": "Python 3",
   "language": "python",
   "name": "python3"
  },
  "language_info": {
   "codemirror_mode": {
    "name": "ipython",
    "version": 3
   },
   "file_extension": ".py",
   "mimetype": "text/x-python",
   "name": "python",
   "nbconvert_exporter": "python",
   "pygments_lexer": "ipython3",
   "version": "3.6.6"
  }
 },
 "nbformat": 4,
 "nbformat_minor": 2
}
